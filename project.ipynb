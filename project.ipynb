{
  "cells": [
    {
      "cell_type": "markdown",
      "metadata": {
        "id": "Md413FzAvFD8"
      },
      "source": [
        "# DX 704 Week 8 Project\n",
        "\n",
        "This homework will modify a simulator controlling a small vehicle to implement tabular q-learning.\n",
        "You will first test your code with random and greedy-epsilon policies, then tweak your own training method for a more optimal policy."
      ]
    },
    {
      "cell_type": "markdown",
      "metadata": {
        "id": "EvEjsVg10YFf"
      },
      "source": [
        "The full project description and a template notebook are available on GitHub: [Project 8 Materials](https://github.com/bu-cds-dx704/dx704-project-08).\n"
      ]
    },
    {
      "cell_type": "markdown",
      "metadata": {
        "id": "RT7nKctadu6R"
      },
      "source": [
        "## Example Code\n",
        "\n",
        "You may find it helpful to refer to these GitHub repositories of Jupyter notebooks for example code.\n",
        "\n",
        "* https://github.com/bu-cds-omds/dx601-examples\n",
        "* https://github.com/bu-cds-omds/dx602-examples\n",
        "* https://github.com/bu-cds-omds/dx603-examples\n",
        "* https://github.com/bu-cds-omds/dx704-examples\n",
        "\n",
        "Any calculations demonstrated in code examples or videos may be found in these notebooks, and you are allowed to copy this example code in your homework answers."
      ]
    },
    {
      "cell_type": "markdown",
      "metadata": {
        "id": "MUD8aVv44IVP"
      },
      "source": [
        "## Rover Simulator\n",
        "\n",
        "The following Python class implements a simulation of a simple vehicle with integer x,y coordinates facing in one of 8 possible directions.\n"
      ]
    },
    {
      "cell_type": "code",
      "execution_count": 1,
      "metadata": {
        "id": "Sv0BRzHz187D"
      },
      "outputs": [],
      "source": [
        "# DO NOT CHANGE\n",
        "\n",
        "import random\n",
        "\n",
        "class RoverSimulator(object):\n",
        "    DIRECTIONS = ((0, 1), (1, 1), (1, 0), (1, -1), (0, -1), (-1, -1), (-1, 0), (-1, 1))\n",
        "\n",
        "    def __init__(self, resolution):\n",
        "        self.resolution = resolution\n",
        "        self.terminal_state = self.construct_state(resolution // 2, resolution // 2, 0)\n",
        "\n",
        "        self.initial_states = []\n",
        "        for initial_x in (0, resolution // 2, resolution - 1):\n",
        "            for initial_y in (0, resolution // 2, resolution - 1):\n",
        "                for initial_direction in range(8):\n",
        "                    initial_state = self.construct_state(initial_x, initial_y, initial_direction)\n",
        "                    if initial_state != self.terminal_state:\n",
        "                        self.initial_states.append(initial_state)\n",
        "\n",
        "    def construct_state(self, x, y, direction):\n",
        "        assert 0 <= x < self.resolution\n",
        "        assert 0 <= y < self.resolution\n",
        "        assert 0 <= direction < 8\n",
        "\n",
        "        state = (y * self.resolution + x) * 8 + direction\n",
        "        assert self.decode_state(state) == (x, y, direction)\n",
        "        return state\n",
        "\n",
        "    def decode_state(self, state):\n",
        "        direction = state % 8\n",
        "        x = (state // 8) % self.resolution\n",
        "        y = state // (8 * self.resolution)\n",
        "\n",
        "        return (x, y, direction)\n",
        "\n",
        "    def get_actions(self, state):\n",
        "        return [-1, 0, 1]\n",
        "\n",
        "    def get_next_reward_state(self, curr_state, curr_action):\n",
        "        if curr_state == self.terminal_state:\n",
        "            # no rewards or changes from terminal state\n",
        "            return (0, curr_state)\n",
        "\n",
        "        (curr_x, curr_y, curr_direction) = self.decode_state(curr_state)\n",
        "        (curr_dx, curr_dy) = self.DIRECTIONS[curr_direction]\n",
        "\n",
        "        assert self.construct_state(curr_x, curr_y, curr_direction) == curr_state\n",
        "\n",
        "        assert curr_action in (-1, 0, 1)\n",
        "\n",
        "        next_x = min(max(0, curr_x + curr_dx), self.resolution - 1)\n",
        "        next_y = min(max(0, curr_y + curr_dy), self.resolution - 1)\n",
        "        next_direction = (curr_direction + curr_action) % 8\n",
        "\n",
        "        next_state = self.construct_state(next_x, next_y, next_direction)\n",
        "        next_reward = 1 if next_state == self.terminal_state else 0\n",
        "\n",
        "        return (next_reward, next_state)\n",
        "\n",
        "    def rollout_policy(self, policy_func, max_steps=1000):\n",
        "        curr_state = self.sample_initial_state()\n",
        "        for i in range(max_steps):\n",
        "            curr_action = policy_func(curr_state, self.get_actions(curr_state))\n",
        "            (next_reward, next_state) = self.get_next_reward_state(curr_state, curr_action)\n",
        "            yield (curr_state, curr_action, next_reward, next_state)\n",
        "            curr_state = next_state\n",
        "\n",
        "    def sample_initial_state(self):\n",
        "        return random.choice(self.initial_states)"
      ]
    },
    {
      "cell_type": "code",
      "execution_count": 3,
      "metadata": {
        "colab": {
          "base_uri": "https://localhost:8080/"
        },
        "id": "5LMQrlfX4Ybs",
        "outputId": "82744cc1-1f98-48c4-fc6b-49631b89afdd"
      },
      "outputs": [
        {
          "name": "stdout",
          "output_type": "stream",
          "text": [
            "INITIAL SAMPLE 1027\n"
          ]
        }
      ],
      "source": [
        "simulator = RoverSimulator(16)\n",
        "initial_sample = simulator.sample_initial_state()\n",
        "print(\"INITIAL SAMPLE\", initial_sample)"
      ]
    },
    {
      "cell_type": "markdown",
      "metadata": {
        "id": "C8oSLkMqvMFF"
      },
      "source": [
        "## Part 1: Implement a Random Policy\n",
        "\n",
        "Random policies are often used to test simulators and start initial exploration.\n",
        "Implement a random policy for these simulators."
      ]
    },
    {
      "cell_type": "code",
      "execution_count": 4,
      "metadata": {
        "id": "DewHlicn4PtW"
      },
      "outputs": [
        {
          "name": "stdout",
          "output_type": "stream",
          "text": [
            "CURR STATE 1145 ACTION 1 NEXT REWARD 0 NEXT STATE 1274\n",
            "CURR STATE 1274 ACTION 1 NEXT REWARD 0 NEXT STATE 1275\n",
            "CURR STATE 1275 ACTION 1 NEXT REWARD 0 NEXT STATE 1148\n",
            "CURR STATE 1148 ACTION -1 NEXT REWARD 0 NEXT STATE 1019\n",
            "CURR STATE 1019 ACTION -1 NEXT REWARD 0 NEXT STATE 890\n",
            "CURR STATE 890 ACTION 1 NEXT REWARD 0 NEXT STATE 891\n",
            "CURR STATE 891 ACTION -1 NEXT REWARD 0 NEXT STATE 762\n",
            "CURR STATE 762 ACTION 0 NEXT REWARD 0 NEXT STATE 762\n",
            "CURR STATE 762 ACTION -1 NEXT REWARD 0 NEXT STATE 761\n",
            "CURR STATE 761 ACTION 1 NEXT REWARD 0 NEXT STATE 890\n",
            "CURR STATE 890 ACTION -1 NEXT REWARD 0 NEXT STATE 889\n",
            "CURR STATE 889 ACTION 1 NEXT REWARD 0 NEXT STATE 1018\n",
            "CURR STATE 1018 ACTION 1 NEXT REWARD 0 NEXT STATE 1019\n",
            "CURR STATE 1019 ACTION 0 NEXT REWARD 0 NEXT STATE 891\n",
            "CURR STATE 891 ACTION -1 NEXT REWARD 0 NEXT STATE 762\n",
            "CURR STATE 762 ACTION -1 NEXT REWARD 0 NEXT STATE 761\n",
            "CURR STATE 761 ACTION 0 NEXT REWARD 0 NEXT STATE 889\n",
            "CURR STATE 889 ACTION 1 NEXT REWARD 0 NEXT STATE 1018\n",
            "CURR STATE 1018 ACTION 0 NEXT REWARD 0 NEXT STATE 1018\n",
            "CURR STATE 1018 ACTION 1 NEXT REWARD 0 NEXT STATE 1019\n",
            "CURR STATE 1019 ACTION 0 NEXT REWARD 0 NEXT STATE 891\n",
            "CURR STATE 891 ACTION -1 NEXT REWARD 0 NEXT STATE 762\n",
            "CURR STATE 762 ACTION 1 NEXT REWARD 0 NEXT STATE 763\n",
            "CURR STATE 763 ACTION -1 NEXT REWARD 0 NEXT STATE 634\n",
            "CURR STATE 634 ACTION 1 NEXT REWARD 0 NEXT STATE 635\n",
            "CURR STATE 635 ACTION 1 NEXT REWARD 0 NEXT STATE 508\n",
            "CURR STATE 508 ACTION 0 NEXT REWARD 0 NEXT STATE 380\n",
            "CURR STATE 380 ACTION 1 NEXT REWARD 0 NEXT STATE 253\n",
            "CURR STATE 253 ACTION -1 NEXT REWARD 0 NEXT STATE 116\n",
            "CURR STATE 116 ACTION 1 NEXT REWARD 0 NEXT STATE 117\n",
            "CURR STATE 117 ACTION -1 NEXT REWARD 0 NEXT STATE 108\n",
            "CURR STATE 108 ACTION 0 NEXT REWARD 0 NEXT STATE 108\n"
          ]
        }
      ],
      "source": [
        "# YOUR CHANGES HERE\n",
        "\n",
        "def random_policy(state, actions):\n",
        "    import random\n",
        "    return random.choice(actions)\n",
        "\n",
        "with open(\"log-random.tsv\", \"w\") as fh:\n",
        "    fh.write(\"curr_state\\tcurr_action\\tnext_reward\\tnext_state\\n\")\n",
        "    for (curr_state, curr_action, next_reward, next_state) in simulator.rollout_policy(random_policy, max_steps=32):\n",
        "        fh.write(f\"{curr_state}\\t{curr_action}\\t{next_reward}\\t{next_state}\\n\")\n",
        "        print(\"CURR STATE\", curr_state, \"ACTION\", curr_action, \"NEXT REWARD\", next_reward, \"NEXT STATE\", next_state)"
      ]
    },
    {
      "cell_type": "markdown",
      "metadata": {
        "id": "iJYOB9zl6szl"
      },
      "source": [
        "Use the code below to test your random policy.\n",
        "Then modify it to save the results in \"log-random.tsv\" with the columns curr_state, curr_action, next_reward and next_state."
      ]
    },
    {
      "cell_type": "code",
      "execution_count": 5,
      "metadata": {
        "colab": {
          "base_uri": "https://localhost:8080/"
        },
        "id": "xgnNCJH453qE",
        "outputId": "83ddd35e-a87d-40ee-bd4c-f82d6dbbd4bc"
      },
      "outputs": [
        {
          "name": "stdout",
          "output_type": "stream",
          "text": [
            "CURR STATE 1146 ACTION 1 NEXT REWARD 0 NEXT STATE 1147\n",
            "CURR STATE 1147 ACTION 0 NEXT REWARD 0 NEXT STATE 1019\n",
            "CURR STATE 1019 ACTION 0 NEXT REWARD 0 NEXT STATE 891\n",
            "CURR STATE 891 ACTION 1 NEXT REWARD 0 NEXT STATE 764\n",
            "CURR STATE 764 ACTION -1 NEXT REWARD 0 NEXT STATE 635\n",
            "CURR STATE 635 ACTION -1 NEXT REWARD 0 NEXT STATE 506\n",
            "CURR STATE 506 ACTION -1 NEXT REWARD 0 NEXT STATE 505\n",
            "CURR STATE 505 ACTION -1 NEXT REWARD 0 NEXT STATE 632\n",
            "CURR STATE 632 ACTION 0 NEXT REWARD 0 NEXT STATE 760\n",
            "CURR STATE 760 ACTION 0 NEXT REWARD 0 NEXT STATE 888\n",
            "CURR STATE 888 ACTION 0 NEXT REWARD 0 NEXT STATE 1016\n",
            "CURR STATE 1016 ACTION -1 NEXT REWARD 0 NEXT STATE 1151\n",
            "CURR STATE 1151 ACTION -1 NEXT REWARD 0 NEXT STATE 1270\n",
            "CURR STATE 1270 ACTION -1 NEXT REWARD 0 NEXT STATE 1261\n",
            "CURR STATE 1261 ACTION 0 NEXT REWARD 0 NEXT STATE 1125\n",
            "CURR STATE 1125 ACTION -1 NEXT REWARD 0 NEXT STATE 988\n",
            "CURR STATE 988 ACTION 0 NEXT REWARD 0 NEXT STATE 860\n",
            "CURR STATE 860 ACTION 0 NEXT REWARD 0 NEXT STATE 732\n",
            "CURR STATE 732 ACTION -1 NEXT REWARD 0 NEXT STATE 603\n",
            "CURR STATE 603 ACTION 1 NEXT REWARD 0 NEXT STATE 484\n",
            "CURR STATE 484 ACTION -1 NEXT REWARD 0 NEXT STATE 355\n",
            "CURR STATE 355 ACTION -1 NEXT REWARD 0 NEXT STATE 234\n",
            "CURR STATE 234 ACTION 0 NEXT REWARD 0 NEXT STATE 242\n",
            "CURR STATE 242 ACTION -1 NEXT REWARD 0 NEXT STATE 249\n",
            "CURR STATE 249 ACTION -1 NEXT REWARD 0 NEXT STATE 376\n",
            "CURR STATE 376 ACTION 1 NEXT REWARD 0 NEXT STATE 505\n",
            "CURR STATE 505 ACTION -1 NEXT REWARD 0 NEXT STATE 632\n",
            "CURR STATE 632 ACTION 0 NEXT REWARD 0 NEXT STATE 760\n",
            "CURR STATE 760 ACTION -1 NEXT REWARD 0 NEXT STATE 895\n",
            "CURR STATE 895 ACTION -1 NEXT REWARD 0 NEXT STATE 1014\n",
            "CURR STATE 1014 ACTION 1 NEXT REWARD 0 NEXT STATE 1007\n",
            "CURR STATE 1007 ACTION -1 NEXT REWARD 0 NEXT STATE 1126\n"
          ]
        }
      ],
      "source": [
        "# YOUR CHANGES HERE\n",
        "\n",
        "for (curr_state, curr_action, next_reward, next_state) in simulator.rollout_policy(random_policy, max_steps=32):\n",
        "    print(\"CURR STATE\", curr_state, \"ACTION\", curr_action, \"NEXT REWARD\", next_reward, \"NEXT STATE\", next_state)"
      ]
    },
    {
      "cell_type": "markdown",
      "metadata": {
        "id": "nRZOd3Bk7JIz"
      },
      "source": [
        "Submit \"log-random.tsv\" in Gradescope."
      ]
    },
    {
      "cell_type": "markdown",
      "metadata": {
        "id": "bAWky_dR7QK1"
      },
      "source": [
        "## Part 2: Implement Q-Learning with Random Policy\n",
        "\n",
        "The code below runs 32 random rollouts of 1024 steps using your random policy.\n",
        "Modify the rollout code to implement Q-Learning.\n",
        "Just implement one learning update for each sampled state-action in the simulation.\n",
        "Use $\\alpha=1$ and $\\gamma=0.9$ since the simulator is deterministic and there is a sink where the rewards stop.\n",
        "\n",
        "\n"
      ]
    },
    {
      "cell_type": "code",
      "execution_count": 31,
      "metadata": {
        "id": "231quBGA7pVd"
      },
      "outputs": [],
      "source": [
        "# YOUR CHANGES HERE\n",
        "\n",
        "Q = {}\n",
        "alpha = 1.0\n",
        "gamma = 0.9\n",
        "rows_random = []\n",
        "\n",
        "for episode in range(32):\n",
        "    for (curr_state, curr_action, next_reward, next_state) in simulator.rollout_policy(random_policy, max_steps=1024):\n",
        "        old_value = Q.get((curr_state, curr_action), 0.0)\n",
        "        next_actions = simulator.get_actions(next_state)\n",
        "        max_next = max((Q.get((next_state, a), 0.0) for a in next_actions), default=0.0)\n",
        "\n",
        "        new_value = (1 - alpha) * old_value + alpha * (next_reward + gamma * max_next)\n",
        "        Q[(curr_state, curr_action)] = new_value\n",
        "\n",
        "        rows_random.append((curr_state, curr_action, next_reward, next_state, old_value, new_value))\n",
        "\n"
      ]
    },
    {
      "cell_type": "markdown",
      "metadata": {
        "id": "tDBNOFLcPPRs"
      },
      "source": [
        "Save each step in the simulator in a file \"q-random.tsv\" with columns curr_state, curr_action, next_reward, next_state, old_value, new_value."
      ]
    },
    {
      "cell_type": "code",
      "execution_count": 32,
      "metadata": {
        "id": "W8cFRd7uPGqy"
      },
      "outputs": [
        {
          "data": {
            "text/plain": [
              "Ellipsis"
            ]
          },
          "execution_count": 32,
          "metadata": {},
          "output_type": "execute_result"
        }
      ],
      "source": [
        "# YOUR CHANGES HERE\n",
        "with open(\"q-random.tsv\", \"w\") as fh:\n",
        "    fh.write(\"curr_state\\tcurr_action\\tnext_reward\\tnext_state\\told_value\\tnew_value\\n\")\n",
        "    for (cs, ca, nr, ns, ov, nv) in rows_random:\n",
        "        fh.write(f\"{cs}\\t{ca}\\t{nr}\\t{ns}\\t{ov}\\t{nv}\\n\")\n",
        "..."
      ]
    },
    {
      "cell_type": "markdown",
      "metadata": {
        "id": "Tnu4j4Yp72k1"
      },
      "source": [
        "Submit \"q-random.tsv\" in Gradescope."
      ]
    },
    {
      "cell_type": "markdown",
      "metadata": {
        "id": "bMBmh7UW-vJU"
      },
      "source": [
        "## Part 3: Implement Epsilon-Greedy Policy\n",
        "\n",
        "Implement an epsilon-greedy policy that picks the optimal policy based on your q-values so far 75% of the time, and picks a random action 25% of the time.\n",
        "This is a high epsilon value, but the environment is deterministic, so it will benefit from more exploration."
      ]
    },
    {
      "cell_type": "code",
      "execution_count": 33,
      "metadata": {
        "id": "pS7g1sETAbKd"
      },
      "outputs": [],
      "source": [
        "Q = {}                     # reset Q-values before epsilon-greedy training\n",
        "alpha = 1.0\n",
        "gamma = 0.9\n",
        "rows_greedy = []\n",
        "import random\n",
        "\n",
        "def epsilon_greedy_policy(state, actions):\n",
        "    if random.random() < 0.25:\n",
        "        return random.choice(actions)\n",
        "    qvals = [Q.get((state, a), 0.0) for a in actions]\n",
        "    max_q = max(qvals)\n",
        "    best_actions = [a for a, q in zip(actions, qvals) if q == max_q]\n",
        "    return random.choice(best_actions)\n",
        "\n",
        "\n"
      ]
    },
    {
      "cell_type": "markdown",
      "metadata": {
        "id": "PpSMW7CNAtEw"
      },
      "source": [
        "Combine your epsilon-greedy policy with q-learning below and save the observations and updates in \"q-greedy.tsv\" with columns curr_state, curr_action, next_reward, next_state, old_value, new_value."
      ]
    },
    {
      "cell_type": "markdown",
      "metadata": {
        "id": "I5nkGhMOVJFp"
      },
      "source": [
        "Hint: make sure to reset your q-learning state before running the simulation below so that the learning process is recorded from the beginning."
      ]
    },
    {
      "cell_type": "code",
      "execution_count": 34,
      "metadata": {
        "id": "JcNQg6qRAsqc"
      },
      "outputs": [],
      "source": [
        "# YOUR CHANGES HERE\n",
        "\n",
        "for episode in range(32):\n",
        "    curr_state = simulator.sample_initial_state()\n",
        "    for step in range(1024):\n",
        "        curr_action = epsilon_greedy_policy(curr_state, simulator.get_actions(curr_state))\n",
        "        (next_reward, next_state) = simulator.get_next_reward_state(curr_state, curr_action)\n",
        "\n",
        "        old_value = Q.get((curr_state, curr_action), 0.0)\n",
        "        next_actions = simulator.get_actions(next_state)\n",
        "        max_next = max((Q.get((next_state, a), 0.0) for a in next_actions), default=0.0)\n",
        "\n",
        "        new_value = (1 - alpha) * old_value + alpha * (next_reward + gamma * max_next)\n",
        "        Q[(curr_state, curr_action)] = new_value\n",
        "\n",
        "        rows_greedy.append((curr_state, curr_action, next_reward, next_state, old_value, new_value))\n",
        "\n",
        "        curr_state = next_state\n",
        "\n",
        "with open(\"q-greedy.tsv\", \"w\") as fh:\n",
        "    fh.write(\"curr_state\\tcurr_action\\tnext_reward\\tnext_state\\told_value\\tnew_value\\n\")\n",
        "    for (cs, ca, nr, ns, ov, nv) in rows_greedy:\n",
        "        fh.write(f\"{cs}\\t{ca}\\t{nr}\\t{ns}\\t{ov}\\t{nv}\\n\")"
      ]
    },
    {
      "cell_type": "markdown",
      "metadata": {
        "id": "3Vd246wcA0HV"
      },
      "source": [
        "Submit \"q-greedy.tsv\" in Gradescope."
      ]
    },
    {
      "cell_type": "markdown",
      "metadata": {
        "id": "zgGc8aP8DCzW"
      },
      "source": [
        "## Part 4: Extract Policy from Q-Values\n",
        "\n",
        "Using your final q-values from the previous simulation, extract a policy picking the best actions according to those q-values.\n",
        "Save the policy in a file \"policy-greedy.tsv\" with columns state and action."
      ]
    },
    {
      "cell_type": "code",
      "execution_count": 35,
      "metadata": {
        "id": "w7VnSBcYDINb"
      },
      "outputs": [
        {
          "data": {
            "text/plain": [
              "Ellipsis"
            ]
          },
          "execution_count": 35,
          "metadata": {},
          "output_type": "execute_result"
        }
      ],
      "source": [
        "# YOUR CHANGES HERE\n",
        "num_states = simulator.resolution * simulator.resolution * 8\n",
        "\n",
        "with open(\"policy-greedy.tsv\", \"w\") as fh:\n",
        "    fh.write(\"state\\taction\\n\")\n",
        "    for state in range(num_states):\n",
        "        actions = simulator.get_actions(state)\n",
        "        best_action = max(actions, key=lambda a: Q.get((state, a), 0.0))\n",
        "        fh.write(f\"{state}\\t{best_action}\\n\")\n",
        "..."
      ]
    },
    {
      "cell_type": "markdown",
      "metadata": {
        "id": "DLcCtb64DJl-"
      },
      "source": [
        "Submit \"policy-greedy.tsv\" in Gradescope."
      ]
    },
    {
      "cell_type": "markdown",
      "metadata": {
        "id": "kE1-nlr6Byq2"
      },
      "source": [
        "## Part 5: Implement Large Policy\n",
        "\n",
        "Train a more optimal policy using q-learning.\n",
        "Save the policy in a file \"policy-optimal.tsv\" with columns state and action."
      ]
    },
    {
      "cell_type": "markdown",
      "metadata": {
        "id": "nHuR4N4BD3_r"
      },
      "source": [
        "Hint: this policy will be graded on its performance compared to optimal for each of the initial states.\n",
        "**You will get full credit if the average value of your policy for the initial states is within 20% of optimal.**\n",
        "Make sure that your policy has coverage of all the initial states, and does not take actions leading to states not included in your policy.\n",
        "You will have to run several rollouts to get coverage of all the initial states, and the provided loops for parts 2 and 3 only consist of one rollout each."
      ]
    },
    {
      "cell_type": "markdown",
      "metadata": {
        "id": "u_DWSxVHTp62"
      },
      "source": [
        "Hint: this environment only gives one non-zero reward per episode, so you may want to cut off rollouts for speed once they get that reward.\n",
        "But make sure you update the q-values first!"
      ]
    },
    {
      "cell_type": "code",
      "execution_count": 36,
      "metadata": {
        "id": "b1A9W4gCDiRZ"
      },
      "outputs": [],
      "source": [
        "Q = {}\n",
        "alpha = 1.0\n",
        "gamma = 0.9\n",
        "import random\n",
        "\n",
        "def train_q(episodes=2000, epsilon=0.25, max_steps=1024):\n",
        "    for ep in range(episodes):\n",
        "        def eps_policy(state, actions):\n",
        "            if random.random() < epsilon:\n",
        "                return random.choice(actions)\n",
        "            qvals = [Q.get((state, a), 0.0) for a in actions]\n",
        "            max_q = max(qvals)\n",
        "            best_actions = [a for a, q in zip(actions, qvals) if q == max_q]\n",
        "            return random.choice(best_actions)\n",
        "\n",
        "        for (curr_state, curr_action, next_reward, next_state) in simulator.rollout_policy(eps_policy, max_steps=max_steps):\n",
        "            old_value = Q.get((curr_state, curr_action), 0.0)\n",
        "            next_actions = simulator.get_actions(next_state)\n",
        "            max_next = max((Q.get((next_state, a), 0.0) for a in next_actions), default=0.0)\n",
        "            new_value = (1 - alpha) * old_value + alpha * (next_reward + gamma * max_next)\n",
        "            Q[(curr_state, curr_action)] = new_value\n",
        "            # intentionally do NOT break on next_reward so each episode yields max_steps entries\n",
        "\n",
        "train_q(episodes=2000, epsilon=0.25, max_steps=1024)\n",
        "\n",
        "num_states = simulator.resolution * simulator.resolution * 8\n",
        "with open(\"policy-optimal.tsv\", \"w\") as fh:\n",
        "    fh.write(\"state\\taction\\n\")\n",
        "    for state in range(num_states):\n",
        "        actions = simulator.get_actions(state)\n",
        "        best_action = max(actions, key=lambda a: Q.get((state, a), 0.0))\n",
        "        fh.write(f\"{state}\\t{best_action}\\n\")"
      ]
    },
    {
      "cell_type": "markdown",
      "metadata": {
        "id": "2BUoHvjUDkjf"
      },
      "source": [
        "Submit \"policy-optimal.tsv\" in Gradescope."
      ]
    },
    {
      "cell_type": "code",
      "execution_count": 38,
      "metadata": {},
      "outputs": [
        {
          "data": {
            "text/plain": [
              "(32768, 6)"
            ]
          },
          "execution_count": 38,
          "metadata": {},
          "output_type": "execute_result"
        }
      ],
      "source": [
        "import pandas as pd\n",
        "\n",
        "df_random = pd.read_csv(\"q-greedy.tsv\", sep=\"\\t\")  \n",
        "df_random.shape "
      ]
    },
    {
      "cell_type": "markdown",
      "metadata": {
        "id": "smsTLuFcvR-I"
      },
      "source": [
        "## Part 6: Code\n",
        "\n",
        "Please submit a Jupyter notebook that can reproduce all your calculations and recreate the previously submitted files.\n",
        "You do not need to provide code for data collection if you did that by manually."
      ]
    },
    {
      "cell_type": "markdown",
      "metadata": {
        "id": "zi8lV2pbvWMs"
      },
      "source": [
        "## Part 7: Acknowledgements\n",
        "\n",
        "If you discussed this assignment with anyone, please acknowledge them here.\n",
        "If you did this assignment completely on your own, simply write none below.\n",
        "\n",
        "If you used any libraries not mentioned in this module's content, please list them with a brief explanation what you used them for. If you did not use any other libraries, simply write none below.\n",
        "\n",
        "If you used any generative AI tools, please add links to your transcripts below, and any other information that you feel is necessary to comply with the generative AI policy. If you did not use any generative AI tools, simply write none below."
      ]
    }
  ],
  "metadata": {
    "colab": {
      "toc_visible": false
    },
    "kernelspec": {
      "display_name": "Python 3",
      "name": "python3"
    },
    "language_info": {
      "codemirror_mode": {
        "name": "ipython",
        "version": 3
      },
      "file_extension": ".py",
      "mimetype": "text/x-python",
      "name": "python",
      "nbconvert_exporter": "python",
      "pygments_lexer": "ipython3",
      "version": "3.12.1"
    }
  },
  "nbformat": 4,
  "nbformat_minor": 0
}
